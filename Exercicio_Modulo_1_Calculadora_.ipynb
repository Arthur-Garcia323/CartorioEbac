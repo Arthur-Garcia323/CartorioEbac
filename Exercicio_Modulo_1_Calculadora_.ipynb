{
  "nbformat": 4,
  "nbformat_minor": 0,
  "metadata": {
    "colab": {
      "provenance": [],
      "authorship_tag": "ABX9TyOn2Zy3yTxlmr+2ipfBnDVq",
      "include_colab_link": true
    },
    "kernelspec": {
      "name": "python3",
      "display_name": "Python 3"
    },
    "language_info": {
      "name": "python"
    }
  },
  "cells": [
    {
      "cell_type": "markdown",
      "metadata": {
        "id": "view-in-github",
        "colab_type": "text"
      },
      "source": [
        "<a href=\"https://colab.research.google.com/github/Arthur-Garcia323/CartorioEbac/blob/main/Exercicio_Modulo_1_Calculadora_.ipynb\" target=\"_parent\"><img src=\"https://colab.research.google.com/assets/colab-badge.svg\" alt=\"Open In Colab\"/></a>"
      ]
    },
    {
      "cell_type": "markdown",
      "source": [
        "#**Calculadora**#"
      ],
      "metadata": {
        "id": "WLTbcuDHejrs"
      }
    },
    {
      "cell_type": "code",
      "execution_count": null,
      "metadata": {
        "id": "CSZueWezeaR7"
      },
      "outputs": [],
      "source": [
        "# Utilize o comando 'input' para receber ao menos 2 números de entrada do usuário;\n",
        "# Converta os valores recebidos pelo usuário para número inteiro (int) ou ponto flutuante (float);\n",
        "\n",
        "# Implemente ao menos 4 operações matemáticas em seu código;\n",
        "\n",
        "# Adicione um laço de repetição ou uma condicional. Por exemplo: você pode permitir que o usuário escolha qual operação realizar ou criar um loop que permita ao usuário realizar várias operações consecutivas;\n",
        "\n",
        "# Utilize o comando 'print' para exibir o resultado da operação matemática.\n"
      ]
    },
    {
      "cell_type": "code",
      "source": [
        "escolha_operação=input('Escolha uma operação? (soma/subtração/multiplicação/divisao): ')\n",
        "\n",
        "if escolha_operação == 'soma':\n",
        "    num1=float(input('Digite um numero:'))\n",
        "    num2=float(input('Digite um numero:'))\n",
        "    soma = num1 + num2\n",
        "print('A soma é:', soma)\n",
        "\n",
        "if escolha_operação == 'subtração':\n",
        "    num1=float(input('Digite um numero:'))\n",
        "    num2=float(input('Digite um numero:'))\n",
        "    soma = num1 - num2\n",
        "print('A subtração é:', subtração)\n",
        "\n",
        "\n",
        "\n",
        "\n",
        "\n"
      ],
      "metadata": {
        "colab": {
          "base_uri": "https://localhost:8080/"
        },
        "id": "AonYPxZBenk4",
        "outputId": "d1b21da5-1184-46e6-e01e-bc1c1f8067b2"
      },
      "execution_count": null,
      "outputs": [
        {
          "output_type": "stream",
          "name": "stdout",
          "text": [
            "Escolha uma operação? (soma/subtração/multiplicação/divisao): soma\n",
            "Digite um numero:1\n",
            "Digite um numero:1\n",
            "A soma é: 2.0\n",
            "A subtração é: 1.0\n"
          ]
        }
      ]
    },
    {
      "cell_type": "code",
      "source": [
        "\n",
        "\n",
        " #Adição\n",
        "    num1=float(input('Digite um numero:'))\n",
        "    num2=float(input('Digite um numero:'))\n",
        "    soma = num1 + num2\n",
        "print('A soma é:', soma)\n",
        "\n",
        "\n",
        "#subtração\n",
        "\n",
        "num1=float(input('Digite um numero:'))\n",
        "num2=float(input('Digite um numero:'))\n",
        "\n",
        "subtração = num1 - num2\n",
        "print('A subtração é:', subtração)\n",
        "\n",
        "\n",
        "#multiplicação\n",
        "\n",
        "num1=float(input('Digite um numero:'))\n",
        "num2=float(input('Digite um numero:'))\n",
        "\n",
        "multiplicação = num1 * num2\n",
        "print('A multiplicação é:', multiplicação)\n",
        "\n",
        "#divisao1\n",
        "\n",
        "num1=float(input('Digite um numero:'))\n",
        "num2=float(input('Digite um numero:'))\n",
        "\n",
        "divisao = num1 / num2\n",
        "print('A divisao é:', divisao)\n",
        "\n"
      ],
      "metadata": {
        "colab": {
          "base_uri": "https://localhost:8080/"
        },
        "id": "zzGJTA2xrIbF",
        "outputId": "a3c3c61d-ff94-44b8-c461-f0f5b4f7d740"
      },
      "execution_count": null,
      "outputs": [
        {
          "output_type": "stream",
          "name": "stdout",
          "text": [
            "Digite um numero:1\n",
            "Digite um numero:1\n",
            "A soma é: 2.0\n",
            "Digite um numero:2\n",
            "Digite um numero:1\n",
            "A subtração é: 1.0\n",
            "Digite um numero:2\n",
            "Digite um numero:5\n",
            "A multiplicação é: 10.0\n",
            "Digite um numero:8\n",
            "Digite um numero:4\n",
            "A divisao é: 2.0\n"
          ]
        }
      ]
    },
    {
      "cell_type": "code",
      "source": [
        "1"
      ],
      "metadata": {
        "id": "ULmLTokNuBVk"
      },
      "execution_count": null,
      "outputs": []
    }
  ]
}