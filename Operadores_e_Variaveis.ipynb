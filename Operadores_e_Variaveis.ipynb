{
  "nbformat": 4,
  "nbformat_minor": 0,
  "metadata": {
    "colab": {
      "provenance": [],
      "authorship_tag": "ABX9TyN4N0vtuwxAVoZ+zUjI0CTM",
      "include_colab_link": true
    },
    "kernelspec": {
      "name": "python3",
      "display_name": "Python 3"
    },
    "language_info": {
      "name": "python"
    }
  },
  "cells": [
    {
      "cell_type": "markdown",
      "metadata": {
        "id": "view-in-github",
        "colab_type": "text"
      },
      "source": [
        "<a href=\"https://colab.research.google.com/github/Arthur-Garcia323/CartorioEbac/blob/main/Operadores_e_Variaveis.ipynb\" target=\"_parent\"><img src=\"https://colab.research.google.com/assets/colab-badge.svg\" alt=\"Open In Colab\"/></a>"
      ]
    },
    {
      "cell_type": "markdown",
      "source": [
        "#**Operadores Aritiméticos**#\n",
        "\n",
        "\n"
      ],
      "metadata": {
        "id": "qmsE9-4oS-eq"
      }
    },
    {
      "cell_type": "code",
      "execution_count": null,
      "metadata": {
        "colab": {
          "base_uri": "https://localhost:8080/"
        },
        "id": "D4yYmDZcSVro",
        "outputId": "6f3673dc-ef5f-4c7a-a0ce-e1ccd035478d"
      },
      "outputs": [
        {
          "output_type": "execute_result",
          "data": {
            "text/plain": [
              "12"
            ]
          },
          "metadata": {},
          "execution_count": 1
        }
      ],
      "source": [
        "# Adição\n",
        "10+2\n"
      ]
    },
    {
      "cell_type": "code",
      "source": [
        "# Subtração\n",
        "10-2"
      ],
      "metadata": {
        "colab": {
          "base_uri": "https://localhost:8080/"
        },
        "id": "v4tWANUES1Cr",
        "outputId": "cc80df7c-e8c0-4e3a-8f04-467cb49afa50"
      },
      "execution_count": null,
      "outputs": [
        {
          "output_type": "execute_result",
          "data": {
            "text/plain": [
              "8"
            ]
          },
          "metadata": {},
          "execution_count": 2
        }
      ]
    },
    {
      "cell_type": "code",
      "source": [
        "# Multiplicação\n",
        "10*2\n"
      ],
      "metadata": {
        "colab": {
          "base_uri": "https://localhost:8080/"
        },
        "id": "BkZrrFOETIoW",
        "outputId": "37c850d0-c3e8-4418-d043-ef91c98897a2"
      },
      "execution_count": null,
      "outputs": [
        {
          "output_type": "execute_result",
          "data": {
            "text/plain": [
              "20"
            ]
          },
          "metadata": {},
          "execution_count": 3
        }
      ]
    },
    {
      "cell_type": "code",
      "source": [
        "# Divisao\n",
        "10 / 2\n"
      ],
      "metadata": {
        "colab": {
          "base_uri": "https://localhost:8080/"
        },
        "id": "1DyHiQZsTMcD",
        "outputId": "9cfd71a9-a0cd-4b95-dc9c-162c1770f870"
      },
      "execution_count": null,
      "outputs": [
        {
          "output_type": "execute_result",
          "data": {
            "text/plain": [
              "5.0"
            ]
          },
          "metadata": {},
          "execution_count": 4
        }
      ]
    },
    {
      "cell_type": "code",
      "source": [
        "# Divisao Inteira\n",
        "10 // 2"
      ],
      "metadata": {
        "colab": {
          "base_uri": "https://localhost:8080/"
        },
        "id": "qm8NRtYHTSKT",
        "outputId": "3adf0e45-c955-41cf-91c3-39be1acffa85"
      },
      "execution_count": null,
      "outputs": [
        {
          "output_type": "execute_result",
          "data": {
            "text/plain": [
              "5"
            ]
          },
          "metadata": {},
          "execution_count": 5
        }
      ]
    },
    {
      "cell_type": "code",
      "source": [
        "# Resto da Divisao\n",
        "11 % 2"
      ],
      "metadata": {
        "colab": {
          "base_uri": "https://localhost:8080/"
        },
        "id": "txLvKz65Taa7",
        "outputId": "3c9bb1d4-fb28-414c-b16a-b35c22c88664"
      },
      "execution_count": null,
      "outputs": [
        {
          "output_type": "execute_result",
          "data": {
            "text/plain": [
              "1"
            ]
          },
          "metadata": {},
          "execution_count": 9
        }
      ]
    },
    {
      "cell_type": "code",
      "source": [
        "# Potenciação\n",
        "10 ** 2"
      ],
      "metadata": {
        "colab": {
          "base_uri": "https://localhost:8080/"
        },
        "id": "2gbHfYgrTfZ7",
        "outputId": "8b33f969-b9f8-4658-84ac-84b89b9d32b7"
      },
      "execution_count": null,
      "outputs": [
        {
          "output_type": "execute_result",
          "data": {
            "text/plain": [
              "100"
            ]
          },
          "metadata": {},
          "execution_count": 10
        }
      ]
    },
    {
      "cell_type": "markdown",
      "source": [
        "#**Operadores Relacionais**#"
      ],
      "metadata": {
        "id": "65Wc8qZuT86X"
      }
    },
    {
      "cell_type": "code",
      "source": [
        "# Menor\n",
        "10 < 2\n"
      ],
      "metadata": {
        "colab": {
          "base_uri": "https://localhost:8080/"
        },
        "id": "90KPY2IWUAJJ",
        "outputId": "68e66e07-eb5e-44c2-b475-a36efb0d4728"
      },
      "execution_count": null,
      "outputs": [
        {
          "output_type": "execute_result",
          "data": {
            "text/plain": [
              "False"
            ]
          },
          "metadata": {},
          "execution_count": 12
        }
      ]
    },
    {
      "cell_type": "code",
      "source": [
        "# Menor ou igual\n",
        "10 <= 2"
      ],
      "metadata": {
        "colab": {
          "base_uri": "https://localhost:8080/"
        },
        "id": "fiGzo6lEUYNR",
        "outputId": "7748a6ba-d761-4f1c-f3ac-bc4c235d8ca9"
      },
      "execution_count": null,
      "outputs": [
        {
          "output_type": "execute_result",
          "data": {
            "text/plain": [
              "False"
            ]
          },
          "metadata": {},
          "execution_count": 13
        }
      ]
    },
    {
      "cell_type": "code",
      "source": [
        "# Maior\n",
        "10 > 2"
      ],
      "metadata": {
        "colab": {
          "base_uri": "https://localhost:8080/"
        },
        "id": "i7NYid8wUcRT",
        "outputId": "582bffb2-b9b7-4bad-98f2-f6b060045384"
      },
      "execution_count": null,
      "outputs": [
        {
          "output_type": "execute_result",
          "data": {
            "text/plain": [
              "True"
            ]
          },
          "metadata": {},
          "execution_count": 14
        }
      ]
    },
    {
      "cell_type": "code",
      "source": [
        "# Maior ou igual\n",
        "10 >= 2"
      ],
      "metadata": {
        "colab": {
          "base_uri": "https://localhost:8080/"
        },
        "id": "QmwwzMzbUfbb",
        "outputId": "4c843d0a-1c67-4029-941b-082b69e7705b"
      },
      "execution_count": null,
      "outputs": [
        {
          "output_type": "execute_result",
          "data": {
            "text/plain": [
              "True"
            ]
          },
          "metadata": {},
          "execution_count": 15
        }
      ]
    },
    {
      "cell_type": "code",
      "source": [
        "# Igual\n",
        "7 == 7"
      ],
      "metadata": {
        "colab": {
          "base_uri": "https://localhost:8080/"
        },
        "id": "x_1HvTWoUjRj",
        "outputId": "40d15c37-14b2-4ad6-ca78-078be14ff373"
      },
      "execution_count": null,
      "outputs": [
        {
          "output_type": "execute_result",
          "data": {
            "text/plain": [
              "True"
            ]
          },
          "metadata": {},
          "execution_count": 16
        }
      ]
    },
    {
      "cell_type": "code",
      "source": [
        "# Diferente\n",
        "7 != 7"
      ],
      "metadata": {
        "colab": {
          "base_uri": "https://localhost:8080/"
        },
        "id": "sp03gI_GUlPj",
        "outputId": "70669b7e-fb1f-4b73-9b93-b7c3265c575e"
      },
      "execution_count": null,
      "outputs": [
        {
          "output_type": "execute_result",
          "data": {
            "text/plain": [
              "False"
            ]
          },
          "metadata": {},
          "execution_count": 17
        }
      ]
    },
    {
      "cell_type": "markdown",
      "source": [
        "#**Tabela Verdade**#\n",
        "\n",
        "\n"
      ],
      "metadata": {
        "id": "Y4heaYenV6E4"
      }
    },
    {
      "cell_type": "code",
      "source": [
        "print(10 > 2 and 4 < 6)"
      ],
      "metadata": {
        "colab": {
          "base_uri": "https://localhost:8080/"
        },
        "id": "iEgKAwjQV_7y",
        "outputId": "460ba6ac-9c2f-4569-c9ef-10913ee5b0b9"
      },
      "execution_count": null,
      "outputs": [
        {
          "output_type": "stream",
          "name": "stdout",
          "text": [
            "True\n"
          ]
        }
      ]
    },
    {
      "cell_type": "markdown",
      "source": [
        "#**Operadores com Variaveis**#\n"
      ],
      "metadata": {
        "id": "ag3Q-dvX9ROr"
      }
    },
    {
      "cell_type": "code",
      "source": [
        "x=10\n",
        "y=20\n",
        "\n",
        "x+y\n"
      ],
      "metadata": {
        "colab": {
          "base_uri": "https://localhost:8080/"
        },
        "id": "Qp5oQDkG9V-O",
        "outputId": "9a0d911e-2500-4afa-b63f-373a4e2c263a"
      },
      "execution_count": null,
      "outputs": [
        {
          "output_type": "execute_result",
          "data": {
            "text/plain": [
              "30"
            ]
          },
          "metadata": {},
          "execution_count": 41
        }
      ]
    },
    {
      "cell_type": "code",
      "source": [
        "\n",
        "x>y"
      ],
      "metadata": {
        "colab": {
          "base_uri": "https://localhost:8080/"
        },
        "id": "6QwSLus--BWi",
        "outputId": "9f5af56b-08e2-4ef5-a4db-3c4f7346afeb"
      },
      "execution_count": null,
      "outputs": [
        {
          "output_type": "execute_result",
          "data": {
            "text/plain": [
              "False"
            ]
          },
          "metadata": {},
          "execution_count": 23
        }
      ]
    },
    {
      "cell_type": "code",
      "source": [
        "soma=5\n",
        "soma+soma"
      ],
      "metadata": {
        "colab": {
          "base_uri": "https://localhost:8080/"
        },
        "id": "oaIxp227-xSP",
        "outputId": "ec225bc3-1807-427e-a0db-3cd9d4e33449"
      },
      "execution_count": null,
      "outputs": [
        {
          "output_type": "execute_result",
          "data": {
            "text/plain": [
              "10"
            ]
          },
          "metadata": {},
          "execution_count": 43
        }
      ]
    },
    {
      "cell_type": "code",
      "source": [
        "soma=5+5\n",
        "soma+soma"
      ],
      "metadata": {
        "colab": {
          "base_uri": "https://localhost:8080/"
        },
        "id": "zd0fOPRc-6VS",
        "outputId": "12ee8b26-c790-4d7d-f560-12a025fdc5cb"
      },
      "execution_count": null,
      "outputs": [
        {
          "output_type": "execute_result",
          "data": {
            "text/plain": [
              "20"
            ]
          },
          "metadata": {},
          "execution_count": 44
        }
      ]
    },
    {
      "cell_type": "code",
      "source": [
        "Nome=\"arthur\"\n",
        "Nome"
      ],
      "metadata": {
        "colab": {
          "base_uri": "https://localhost:8080/",
          "height": 35
        },
        "id": "51o0JH8c_GWG",
        "outputId": "b736812d-16c5-40d1-b66c-b02d9a0d9fe9"
      },
      "execution_count": null,
      "outputs": [
        {
          "output_type": "execute_result",
          "data": {
            "text/plain": [
              "'arthur'"
            ],
            "application/vnd.google.colaboratory.intrinsic+json": {
              "type": "string"
            }
          },
          "metadata": {},
          "execution_count": 48
        }
      ]
    },
    {
      "cell_type": "code",
      "source": [
        "num=10\n",
        "num"
      ],
      "metadata": {
        "colab": {
          "base_uri": "https://localhost:8080/"
        },
        "id": "q9JFVzL8_a5v",
        "outputId": "10be2ed6-bbb4-4a7f-d4f5-0e0ed143ac76"
      },
      "execution_count": null,
      "outputs": [
        {
          "output_type": "execute_result",
          "data": {
            "text/plain": [
              "10"
            ]
          },
          "metadata": {},
          "execution_count": 49
        }
      ]
    },
    {
      "cell_type": "markdown",
      "source": [],
      "metadata": {
        "id": "kjyPKXqbASWd"
      }
    },
    {
      "cell_type": "markdown",
      "source": [
        "#**Condicional**#\n"
      ],
      "metadata": {
        "id": "SIH4lrYdATS7"
      }
    },
    {
      "cell_type": "code",
      "source": [
        "# if\n",
        "if 5 < 10:\n",
        "  print('Verdadeiro')\n"
      ],
      "metadata": {
        "colab": {
          "base_uri": "https://localhost:8080/"
        },
        "id": "dQZRhh65AWBN",
        "outputId": "6f217093-7842-415a-ada8-5d23288f285a"
      },
      "execution_count": 12,
      "outputs": [
        {
          "output_type": "stream",
          "name": "stdout",
          "text": [
            "Verdadeiro\n"
          ]
        }
      ]
    },
    {
      "cell_type": "code",
      "source": [
        "# if/else\n",
        "\n",
        "num1 = 10\n",
        "num2 = 20\n",
        "\n",
        "if num1>num2:\n",
        "    print('O num1 é o maior número')\n",
        "\n",
        "else:\n",
        "  print('O num2 é o maior número')\n"
      ],
      "metadata": {
        "colab": {
          "base_uri": "https://localhost:8080/"
        },
        "id": "XKrh1hGmB9o1",
        "outputId": "34c2b413-a018-4797-f567-6e27c18aeb05"
      },
      "execution_count": 49,
      "outputs": [
        {
          "output_type": "stream",
          "name": "stdout",
          "text": [
            "O num2 é o maior número\n"
          ]
        }
      ]
    },
    {
      "cell_type": "code",
      "source": [
        "# if / Elif / Else\n",
        "\n",
        "num1 = 10\n",
        "num2 = 25\n",
        "\n",
        "if num1 > num2:\n",
        "  print('O num1 é o maior número')\n",
        "\n",
        "elif num1 < num2:\n",
        "  print('O num2 é o maior número')\n",
        "\n",
        "else:\n",
        "  print('Os dois são iguais')\n"
      ],
      "metadata": {
        "colab": {
          "base_uri": "https://localhost:8080/"
        },
        "id": "YH_IKjI_CeNO",
        "outputId": "2d0f4884-1c81-47b2-fa03-e6878b16c7c1"
      },
      "execution_count": 51,
      "outputs": [
        {
          "output_type": "stream",
          "name": "stdout",
          "text": [
            "O num2 é o maior número\n"
          ]
        }
      ]
    },
    {
      "cell_type": "code",
      "source": [
        "# if / Elif / Else\n",
        "\n",
        "num1 = 10\n",
        "num2 = 10\n",
        "\n",
        "if num1 > num2:\n",
        "  print('O num1 é o maior número')\n",
        "\n",
        "elif num1 < num2:\n",
        "  print('O num2 é o maior número')\n",
        "\n",
        "else:\n",
        "  print('Os dois são iguais')"
      ],
      "metadata": {
        "colab": {
          "base_uri": "https://localhost:8080/"
        },
        "id": "VJjCYpViGuiu",
        "outputId": "bb4e762d-2a01-4b97-9fc8-48b8b05a7815"
      },
      "execution_count": 52,
      "outputs": [
        {
          "output_type": "stream",
          "name": "stdout",
          "text": [
            "Os dois são iguais\n"
          ]
        }
      ]
    },
    {
      "cell_type": "markdown",
      "source": [
        "#**Condicional com operadores lógicos**#"
      ],
      "metadata": {
        "id": "Y2ZuXvvyJTN3"
      }
    },
    {
      "cell_type": "code",
      "source": [
        "num1 = 10\n",
        "num2 = 5\n",
        "num3 = 2\n",
        "\n",
        "if (num1 > num2) and (num1 > num3):\n",
        "  print('O num1 é o maior número')\n",
        "\n",
        "else:\n",
        "  print('O num1 não é o menor número')"
      ],
      "metadata": {
        "colab": {
          "base_uri": "https://localhost:8080/"
        },
        "id": "oWg1x8XCJYcj",
        "outputId": "c8e141fd-5a50-47a0-ca1e-fe11f640379d"
      },
      "execution_count": 63,
      "outputs": [
        {
          "output_type": "stream",
          "name": "stdout",
          "text": [
            "O num1 é o maior número\n"
          ]
        }
      ]
    },
    {
      "cell_type": "markdown",
      "source": [
        "#**Condicional com operadores lógicos - EXERCICIOS**#"
      ],
      "metadata": {
        "id": "-f-Rw_pTNu5f"
      }
    },
    {
      "cell_type": "code",
      "source": [
        "# Par ou Impar\n",
        "# Solicitar um número ao usuário\n",
        "\n",
        "numero = int(input('Digite um número inteiro:'))\n",
        "\n",
        "# Verificar se o número é par ou impar usando o operador %\n",
        "\n",
        "if numero % 2 == 0:\n",
        "  print('O número é par')\n",
        "\n",
        "else:\n",
        "  print('O número é impar.')"
      ],
      "metadata": {
        "colab": {
          "base_uri": "https://localhost:8080/"
        },
        "id": "v952oAnaNzT4",
        "outputId": "31d66ec0-3e8e-4e34-f6c4-ffd50b8fe0f6"
      },
      "execution_count": 70,
      "outputs": [
        {
          "output_type": "stream",
          "name": "stdout",
          "text": [
            "Digite um número inteiro:11258\n",
            "O número é par\n"
          ]
        }
      ]
    },
    {
      "cell_type": "code",
      "source": [
        "# Peça a idade e diga se a pessoa é menor de idade, maior de idade, ou idosa (60+).\n",
        "\n",
        "idade=int(input('Digite sua idade:'))\n",
        "\n",
        "# Verificar se é menor de idade, maior de idade ou idosa (60+)\n",
        "\n",
        "if idade < 18:\n",
        "  print('Menor de idade')\n",
        "\n",
        "elif idade < 60:\n",
        "  print('Maior de idade')\n",
        "\n",
        "else:\n",
        "  print('Idosa')\n"
      ],
      "metadata": {
        "colab": {
          "base_uri": "https://localhost:8080/"
        },
        "id": "_ilhOBXjOc55",
        "outputId": "3c6a62df-745c-4a51-ec0a-593029f67517"
      },
      "execution_count": 80,
      "outputs": [
        {
          "output_type": "stream",
          "name": "stdout",
          "text": [
            "Digite sua idade:17\n",
            "Menor de idade\n"
          ]
        }
      ]
    },
    {
      "cell_type": "code",
      "source": [
        "# Verifique se um usuário pode acessar um site:\n",
        "\n",
        "# Ele só pode entrar se tiver mais de 18 anos e aceitar os termos de uso.\n",
        "\n",
        "idade=int(input('Digite sua idade:'))\n",
        "aceitou_termos=input('Você aceita os termos de uso? (sim/não): '). lower()\n",
        "\n",
        "if idade > 18 and aceitou_termos == 'sim':\n",
        "  print('Acesso liberado!')\n",
        "\n",
        "else:\n",
        "  print('Acesso bloqueado!')\n"
      ],
      "metadata": {
        "colab": {
          "base_uri": "https://localhost:8080/"
        },
        "id": "cFM8LzWLRgwh",
        "outputId": "f1739305-02a6-440f-9ce9-db05feff5e06"
      },
      "execution_count": 86,
      "outputs": [
        {
          "output_type": "stream",
          "name": "stdout",
          "text": [
            "Digite sua idade:10\n",
            "Você aceita os termos de uso? (sim/não): sim\n",
            "Acesso bloqueado!\n"
          ]
        }
      ]
    },
    {
      "cell_type": "code",
      "source": [
        " # Promoção de loja\n",
        " # A loja só dá desconto se:\n",
        " # O cliente for membro VIP ou tiver gasto mais de R$ 500.\n",
        "\n",
        "membro_vip=input('É membro VIP? (sim/não):'). lower()\n",
        "\n",
        "\n",
        "# para verificar uma resposta invalida, onde deveria responder sim/nao e o usuario colocar qualquer cosia diferente disso!\n",
        "if membro_vip != 'sim' and membro_vip != 'não':\n",
        "  print(\"Resposta Inválida. Digite apenas 'sim' ou 'não'.\")\n",
        "\n",
        "else:\n",
        "  gasto_total=float(input('Digite o gasto total:'))\n",
        "\n",
        "\n",
        "if membro_vip == 'sim' or gasto_total > 500:\n",
        "  print('Tem desconto!')\n",
        "else:\n",
        "  print('Sem desconto!')\n"
      ],
      "metadata": {
        "colab": {
          "base_uri": "https://localhost:8080/"
        },
        "id": "3A-uCoSMUROo",
        "outputId": "dbc1cc26-1a5d-414b-8f60-08b68d125707"
      },
      "execution_count": 112,
      "outputs": [
        {
          "output_type": "stream",
          "name": "stdout",
          "text": [
            "É membro VIP? (sim/não):não\n",
            "Digite o gasto total:200\n",
            "Sem desconto!\n"
          ]
        }
      ]
    },
    {
      "cell_type": "code",
      "source": [
        "# 5 Login simples\n",
        "# O sistema tem o seguinte login válido\n",
        "\n",
        "usuario_valido = \"admin\"\n",
        "senha_valida = \"1234\"\n",
        "\n",
        "usuario=input('Digite seu usuário:')\n",
        "senha=input('Digite sua senha:')\n",
        "\n",
        "if usuario == usuario_valido and senha == senha_valida:\n",
        "  print('Está correto!')\n",
        "\n",
        "else:\n",
        "  print('Acesso Inválido')\n"
      ],
      "metadata": {
        "colab": {
          "base_uri": "https://localhost:8080/"
        },
        "id": "EmwdouLGc8_A",
        "outputId": "2ec72fbd-42e2-4d36-9bf6-0ca456e54471"
      },
      "execution_count": 130,
      "outputs": [
        {
          "output_type": "stream",
          "name": "stdout",
          "text": [
            "Digite seu usuário:admin\n",
            "Digite sua senha:1234\n",
            "Está correto!\n"
          ]
        }
      ]
    },
    {
      "cell_type": "code",
      "source": [],
      "metadata": {
        "id": "gaAAGp-qeVnm"
      },
      "execution_count": 128,
      "outputs": []
    },
    {
      "cell_type": "markdown",
      "source": [
        "#**Listas, tuplas e dicionários**#\n"
      ],
      "metadata": {
        "id": "CNbworIpHmOa"
      }
    },
    {
      "cell_type": "code",
      "source": [
        "# Lista\n",
        "\n",
        "[1,2,3,4,5]"
      ],
      "metadata": {
        "colab": {
          "base_uri": "https://localhost:8080/"
        },
        "id": "aMNzZr_aHuf3",
        "outputId": "09b92f0d-90ce-400f-f8e0-335ffb3d2bbc"
      },
      "execution_count": 1,
      "outputs": [
        {
          "output_type": "execute_result",
          "data": {
            "text/plain": [
              "[1, 2, 3, 4, 5]"
            ]
          },
          "metadata": {},
          "execution_count": 1
        }
      ]
    },
    {
      "cell_type": "code",
      "source": [
        "# Tupla\n",
        "(1,2,3,4,5)"
      ],
      "metadata": {
        "colab": {
          "base_uri": "https://localhost:8080/"
        },
        "id": "FTIyyiCqH3ot",
        "outputId": "3e70936e-c56d-40b4-c74c-751171aa1942"
      },
      "execution_count": 3,
      "outputs": [
        {
          "output_type": "execute_result",
          "data": {
            "text/plain": [
              "(1, 2, 3, 4, 5)"
            ]
          },
          "metadata": {},
          "execution_count": 3
        }
      ]
    },
    {
      "cell_type": "code",
      "source": [
        "# Dicionário\n",
        "{'num1' : 1, 'num2': 2}"
      ],
      "metadata": {
        "colab": {
          "base_uri": "https://localhost:8080/"
        },
        "id": "4IuIXYclH8It",
        "outputId": "cfcd32f7-4919-4c31-85bb-74a5c4d926b0"
      },
      "execution_count": 5,
      "outputs": [
        {
          "output_type": "execute_result",
          "data": {
            "text/plain": [
              "{'num1': 1, 'num2': 2}"
            ]
          },
          "metadata": {},
          "execution_count": 5
        }
      ]
    },
    {
      "cell_type": "markdown",
      "source": [
        "#**Lista**#"
      ],
      "metadata": {
        "id": "7sH8lQRFIxji"
      }
    },
    {
      "cell_type": "code",
      "source": [
        "lista=[5, 'Arthur',9.1]\n",
        "type(lista)"
      ],
      "metadata": {
        "id": "fOx2FsP8IyP5"
      },
      "execution_count": 6,
      "outputs": []
    },
    {
      "cell_type": "code",
      "source": [
        "lista.append('Augusto') # append, comando para adicionar um elemento na lista"
      ],
      "metadata": {
        "id": "gM7uhSCQJDtl"
      },
      "execution_count": 7,
      "outputs": []
    },
    {
      "cell_type": "code",
      "source": [
        "print(lista)\n",
        "print(lista[1])"
      ],
      "metadata": {
        "colab": {
          "base_uri": "https://localhost:8080/"
        },
        "id": "N2BVVoJVJN7V",
        "outputId": "73d0c639-9c13-4c01-d909-05aefa340e93"
      },
      "execution_count": 11,
      "outputs": [
        {
          "output_type": "stream",
          "name": "stdout",
          "text": [
            "[5, 'Arthur', 9.1, 'Augusto']\n",
            "Arthur\n"
          ]
        }
      ]
    },
    {
      "cell_type": "code",
      "source": [],
      "metadata": {
        "id": "KtxATjNdJWL9"
      },
      "execution_count": null,
      "outputs": []
    },
    {
      "cell_type": "markdown",
      "source": [
        "#**Tupla**#"
      ],
      "metadata": {
        "id": "TlCfhJbPJnKz"
      }
    },
    {
      "cell_type": "code",
      "source": [
        "tupla = (5,'Arthur,9.1')\n",
        "\n",
        "type(tupla)\n"
      ],
      "metadata": {
        "id": "uDgW_TPzJtDS"
      },
      "execution_count": 12,
      "outputs": []
    },
    {
      "cell_type": "code",
      "source": [
        "tupla.append('Augusto')"
      ],
      "metadata": {
        "colab": {
          "base_uri": "https://localhost:8080/",
          "height": 141
        },
        "id": "x2asTGLPJ4S0",
        "outputId": "dc41d76b-dfc0-47b3-d1b0-8a2327b58b32"
      },
      "execution_count": 33,
      "outputs": [
        {
          "output_type": "error",
          "ename": "AttributeError",
          "evalue": "'tuple' object has no attribute 'append'",
          "traceback": [
            "\u001b[0;31m---------------------------------------------------------------------------\u001b[0m",
            "\u001b[0;31mAttributeError\u001b[0m                            Traceback (most recent call last)",
            "\u001b[0;32m<ipython-input-33-8e747b695909>\u001b[0m in \u001b[0;36m<cell line: 0>\u001b[0;34m()\u001b[0m\n\u001b[0;32m----> 1\u001b[0;31m \u001b[0mtupla\u001b[0m\u001b[0;34m.\u001b[0m\u001b[0mappend\u001b[0m\u001b[0;34m(\u001b[0m\u001b[0;34m'Augusto'\u001b[0m\u001b[0;34m)\u001b[0m\u001b[0;34m\u001b[0m\u001b[0;34m\u001b[0m\u001b[0m\n\u001b[0m",
            "\u001b[0;31mAttributeError\u001b[0m: 'tuple' object has no attribute 'append'"
          ]
        }
      ]
    },
    {
      "cell_type": "code",
      "source": [
        "print(tupla)"
      ],
      "metadata": {
        "colab": {
          "base_uri": "https://localhost:8080/"
        },
        "id": "Ie74pNIlKDn8",
        "outputId": "91d80e3d-daaf-43b4-f581-809dc76e85a0"
      },
      "execution_count": 17,
      "outputs": [
        {
          "output_type": "stream",
          "name": "stdout",
          "text": [
            "(5, 'Arthur,9.1')\n"
          ]
        }
      ]
    },
    {
      "cell_type": "markdown",
      "source": [
        "#**Dicionário**#"
      ],
      "metadata": {
        "id": "8m_7zUFTKi9M"
      }
    },
    {
      "cell_type": "code",
      "source": [
        "dicionario = {'nome':'Rodrigo','Cidade': 'São josé dos campos'}\n",
        "\n"
      ],
      "metadata": {
        "id": "zyYBT1QXK-3_"
      },
      "execution_count": 27,
      "outputs": []
    },
    {
      "cell_type": "code",
      "source": [
        "type(dicionario)"
      ],
      "metadata": {
        "colab": {
          "base_uri": "https://localhost:8080/"
        },
        "id": "MmFO7rfzLAZs",
        "outputId": "4f1cef91-1f39-44bf-d60a-bbee71303c14"
      },
      "execution_count": 28,
      "outputs": [
        {
          "output_type": "execute_result",
          "data": {
            "text/plain": [
              "dict"
            ]
          },
          "metadata": {},
          "execution_count": 28
        }
      ]
    },
    {
      "cell_type": "code",
      "source": [
        "print(dicionario)"
      ],
      "metadata": {
        "colab": {
          "base_uri": "https://localhost:8080/"
        },
        "id": "pLVXfFr1MIWc",
        "outputId": "aebb2e70-ab8c-46b5-be69-b8cbe5a0807e"
      },
      "execution_count": 29,
      "outputs": [
        {
          "output_type": "stream",
          "name": "stdout",
          "text": [
            "{'nome': 'Rodrigo', 'Cidade': 'São josé dos campos'}\n"
          ]
        }
      ]
    },
    {
      "cell_type": "code",
      "source": [
        "print(dicionario['nome'])"
      ],
      "metadata": {
        "colab": {
          "base_uri": "https://localhost:8080/"
        },
        "id": "f2sBoie1MNsM",
        "outputId": "f40686df-cab5-4726-ad70-7f7ce9558668"
      },
      "execution_count": 30,
      "outputs": [
        {
          "output_type": "stream",
          "name": "stdout",
          "text": [
            "Rodrigo\n"
          ]
        }
      ]
    },
    {
      "cell_type": "code",
      "source": [
        "dicionario['ultimo_nome'] = 'Rebouças'"
      ],
      "metadata": {
        "id": "Ji6QkoIAMPdE"
      },
      "execution_count": 31,
      "outputs": []
    },
    {
      "cell_type": "code",
      "source": [
        "print(dicionario)"
      ],
      "metadata": {
        "colab": {
          "base_uri": "https://localhost:8080/"
        },
        "id": "mqwBEGjtMRW8",
        "outputId": "2bc60276-06e1-4217-f126-f192826da63f"
      },
      "execution_count": 32,
      "outputs": [
        {
          "output_type": "stream",
          "name": "stdout",
          "text": [
            "{'nome': 'Rodrigo', 'Cidade': 'São josé dos campos', 'ultimo_nome': 'Rebouças'}\n"
          ]
        }
      ]
    },
    {
      "cell_type": "code",
      "source": [],
      "metadata": {
        "id": "l6H1f2uTMk2E"
      },
      "execution_count": null,
      "outputs": []
    },
    {
      "cell_type": "markdown",
      "source": [],
      "metadata": {
        "id": "UgwVjnE9NeAX"
      }
    },
    {
      "cell_type": "markdown",
      "source": [
        "#**For**#"
      ],
      "metadata": {
        "id": "9OXX69MvNe44"
      }
    },
    {
      "cell_type": "code",
      "source": [
        "# For Range\n",
        "\n",
        "\n",
        "for contador in range(10):\n",
        "  print(contador)"
      ],
      "metadata": {
        "colab": {
          "base_uri": "https://localhost:8080/"
        },
        "id": "9hrJlUZENkcC",
        "outputId": "67ebe19b-6855-43e9-e926-3afa5d672b41"
      },
      "execution_count": 34,
      "outputs": [
        {
          "output_type": "stream",
          "name": "stdout",
          "text": [
            "0\n",
            "1\n",
            "2\n",
            "3\n",
            "4\n",
            "5\n",
            "6\n",
            "7\n",
            "8\n",
            "9\n"
          ]
        }
      ]
    },
    {
      "cell_type": "code",
      "source": [
        "# For Range + Break\n",
        "\n",
        "for contador  in range(1000):\n",
        "  print(contador)\n",
        "  if contador == 2:\n",
        "    break\n"
      ],
      "metadata": {
        "colab": {
          "base_uri": "https://localhost:8080/"
        },
        "id": "p35JhcU0OF50",
        "outputId": "392dccbc-bace-47ea-9b3e-100f3816b36c"
      },
      "execution_count": 37,
      "outputs": [
        {
          "output_type": "stream",
          "name": "stdout",
          "text": [
            "0\n",
            "1\n",
            "2\n"
          ]
        }
      ]
    },
    {
      "cell_type": "code",
      "source": [
        "lista = ['Teste1', 'Teste2']\n"
      ],
      "metadata": {
        "id": "4zNZg1x5OksT"
      },
      "execution_count": 38,
      "outputs": []
    },
    {
      "cell_type": "code",
      "source": [
        "# For Simples\n",
        "\n",
        "for val in lista:\n",
        "  print(val)"
      ],
      "metadata": {
        "colab": {
          "base_uri": "https://localhost:8080/"
        },
        "id": "CtzxN9mvPObz",
        "outputId": "f5294cbe-dbf2-495a-b99f-f7d8002718d0"
      },
      "execution_count": 41,
      "outputs": [
        {
          "output_type": "stream",
          "name": "stdout",
          "text": [
            "Teste\n",
            "Teste2\n"
          ]
        }
      ]
    },
    {
      "cell_type": "code",
      "source": [
        "# For com Enumerate\n",
        "\n",
        "for i, val in enumerate (lista):\n",
        "  print(i, val)"
      ],
      "metadata": {
        "colab": {
          "base_uri": "https://localhost:8080/"
        },
        "id": "LyjAKoMCPY_7",
        "outputId": "f4d4d6d8-89f4-4c4d-eb22-3d8051d4c240"
      },
      "execution_count": 42,
      "outputs": [
        {
          "output_type": "stream",
          "name": "stdout",
          "text": [
            "0 Teste\n",
            "1 Teste2\n"
          ]
        }
      ]
    },
    {
      "cell_type": "markdown",
      "source": [
        "#**For com operadores compostos**#\n"
      ],
      "metadata": {
        "id": "hzfO_xOTRfmW"
      }
    },
    {
      "cell_type": "code",
      "source": [
        "lista2 = [2,3,4]"
      ],
      "metadata": {
        "id": "Bfg8ew_KRlGQ"
      },
      "execution_count": 43,
      "outputs": []
    },
    {
      "cell_type": "code",
      "source": [
        "for val in lista2:\n",
        "  val+=1\n",
        "  print(val)"
      ],
      "metadata": {
        "colab": {
          "base_uri": "https://localhost:8080/"
        },
        "id": "jnlCuMNBRp17",
        "outputId": "be174f79-85d2-4668-cbd2-fa726ee02653"
      },
      "execution_count": 46,
      "outputs": [
        {
          "output_type": "stream",
          "name": "stdout",
          "text": [
            "3\n",
            "4\n",
            "5\n"
          ]
        }
      ]
    },
    {
      "cell_type": "code",
      "source": [
        "for val in lista2:\n",
        "  val *=2\n",
        "  print(val)"
      ],
      "metadata": {
        "colab": {
          "base_uri": "https://localhost:8080/"
        },
        "id": "uARQ6aSDUYLh",
        "outputId": "4d12df4c-692c-4cd6-d1da-429ea320daf9"
      },
      "execution_count": 47,
      "outputs": [
        {
          "output_type": "stream",
          "name": "stdout",
          "text": [
            "4\n",
            "6\n",
            "8\n"
          ]
        }
      ]
    },
    {
      "cell_type": "markdown",
      "source": [
        "#**While**#"
      ],
      "metadata": {
        "id": "N2cT8LiAUUgQ"
      }
    },
    {
      "cell_type": "code",
      "source": [
        "val = 1\n",
        "while (val < 6):\n",
        "  val *=2\n",
        "  print(val)"
      ],
      "metadata": {
        "colab": {
          "base_uri": "https://localhost:8080/"
        },
        "id": "DHdKqm6NVVPg",
        "outputId": "fd2c802c-94ff-4c1e-d520-ee653c41b47d"
      },
      "execution_count": 51,
      "outputs": [
        {
          "output_type": "stream",
          "name": "stdout",
          "text": [
            "2\n",
            "4\n",
            "8\n"
          ]
        }
      ]
    },
    {
      "cell_type": "code",
      "source": [
        "# while com else\n",
        "\n",
        "val = 1\n",
        "while val < 6:\n",
        "  val *=2\n",
        "else:\n",
        "    print('Valor de val é:', val)"
      ],
      "metadata": {
        "colab": {
          "base_uri": "https://localhost:8080/"
        },
        "id": "AHIU3w2fVzeS",
        "outputId": "3644952d-135d-4ce9-f1b2-b1360dc0df05"
      },
      "execution_count": 54,
      "outputs": [
        {
          "output_type": "stream",
          "name": "stdout",
          "text": [
            "Valor de val é: 8\n"
          ]
        }
      ]
    },
    {
      "cell_type": "code",
      "source": [],
      "metadata": {
        "id": "zU50x0rSWTEy"
      },
      "execution_count": null,
      "outputs": []
    }
  ]
}